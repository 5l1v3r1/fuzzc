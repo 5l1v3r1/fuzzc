{
  "nbformat": 4,
  "nbformat_minor": 0,
  "metadata": {
    "colab": {
      "name": "fuzzc.ipynb",
      "provenance": [],
      "collapsed_sections": []
    },
    "kernelspec": {
      "name": "python3",
      "display_name": "Python 3"
    }
  },
  "cells": [
    {
      "cell_type": "code",
      "metadata": {
        "id": "3VWy1oh9wToQ",
        "colab_type": "code",
        "colab": {
          "base_uri": "https://localhost:8080/",
          "height": 344
        },
        "outputId": "3ae1c96f-e02d-4dfd-aa20-469dd4d0eb2c"
      },
      "source": [
        "pip install fuzzc"
      ],
      "execution_count": 1,
      "outputs": [
        {
          "output_type": "stream",
          "text": [
            "Collecting fuzzc\n",
            "  Downloading https://files.pythonhosted.org/packages/21/f1/c7e482d2a2aec7ee2d4ea45f4e792386866e5612c9ac41ddcb9e70d775ca/fuzzc-0.1.tar.gz\n",
            "Requirement already satisfied: numpy in /usr/local/lib/python3.6/dist-packages (from fuzzc) (1.18.2)\n",
            "Requirement already satisfied: matplotlib in /usr/local/lib/python3.6/dist-packages (from fuzzc) (3.2.1)\n",
            "Requirement already satisfied: cycler>=0.10 in /usr/local/lib/python3.6/dist-packages (from matplotlib->fuzzc) (0.10.0)\n",
            "Requirement already satisfied: python-dateutil>=2.1 in /usr/local/lib/python3.6/dist-packages (from matplotlib->fuzzc) (2.8.1)\n",
            "Requirement already satisfied: pyparsing!=2.0.4,!=2.1.2,!=2.1.6,>=2.0.1 in /usr/local/lib/python3.6/dist-packages (from matplotlib->fuzzc) (2.4.6)\n",
            "Requirement already satisfied: kiwisolver>=1.0.1 in /usr/local/lib/python3.6/dist-packages (from matplotlib->fuzzc) (1.2.0)\n",
            "Requirement already satisfied: six in /usr/local/lib/python3.6/dist-packages (from cycler>=0.10->matplotlib->fuzzc) (1.12.0)\n",
            "Building wheels for collected packages: fuzzc\n",
            "  Building wheel for fuzzc (setup.py) ... \u001b[?25l\u001b[?25hdone\n",
            "  Created wheel for fuzzc: filename=fuzzc-0.1-cp36-none-any.whl size=2801 sha256=4ab6f0b1c26784ea0bbd937fc8322b048aaa6d5b685778b3ec7c736afa7a377e\n",
            "  Stored in directory: /root/.cache/pip/wheels/c4/86/4b/021ae28248f93c6528fa986adb5c89d49e3250ed307f4ea374\n",
            "Successfully built fuzzc\n",
            "Installing collected packages: fuzzc\n",
            "Successfully installed fuzzc-0.1\n"
          ],
          "name": "stdout"
        }
      ]
    },
    {
      "cell_type": "code",
      "metadata": {
        "id": "UpfnGcLdwwrp",
        "colab_type": "code",
        "colab": {
          "base_uri": "https://localhost:8080/",
          "height": 75
        },
        "outputId": "1de02ada-1f2b-42f5-cdb3-c9541967671e"
      },
      "source": [
        "import fuzzc.core as fuzzc\n",
        "import numpy as np\n",
        "# create a set of points in the set.\n",
        "fuzzy_set = np.linspace(0, 100, 1, dtype=np.int32)\n",
        "print(fuzzy_set)\n",
        "# create a random membership function.\n",
        "membership_fn = np.around(np.random.rand(len(fuzzy_set)), decimals=1)\n",
        "# create the Fuzzy_Set instance.\n",
        "myset = fuzzc.Fuzzy_Set(fuzzy_set=fuzzy_set, membership_fn=membership_fn)\n",
        "# Use the utilities.\n",
        "myset.show()\n",
        "myset.is_fuzzy_singleton()"
      ],
      "execution_count": 6,
      "outputs": [
        {
          "output_type": "stream",
          "text": [
            "[0]\n",
            "[(0, 0.2)]\n"
          ],
          "name": "stdout"
        },
        {
          "output_type": "execute_result",
          "data": {
            "text/plain": [
              "True"
            ]
          },
          "metadata": {
            "tags": []
          },
          "execution_count": 6
        }
      ]
    },
    {
      "cell_type": "code",
      "metadata": {
        "id": "K3zVfCgOxGPe",
        "colab_type": "code",
        "colab": {
          "base_uri": "https://localhost:8080/",
          "height": 171
        },
        "outputId": "7b5f51ca-7329-4da5-d863-62cd4128ffb8"
      },
      "source": [
        "fuzzy_set1 = np.array([130, 140, 150, 160, 170, 180, 190, 200, 210])\n",
        "membership_fn1 = np.array([0., 0.1, 0.25, 0.5, 0.9, 0.5, 0.25, 0.1, 0])\n",
        "fuzzy1 = Fuzzy_Set(fuzzy_set=fuzzy_set1, membership_fn=membership_fn1)\n",
        "fuzzy_set2 = np.array([130, 140, 150, 160, 170, 180, 190, 200, 210])\n",
        "membership_fn2 = np.array([1., 0.9, 0.3, 0.6, 1.0, 0.6, 0.5, 0.3, 0.4])\n",
        "fuzzy2 = Fuzzy_Set(fuzzy_set=fuzzy_set2, membership_fn=membership_fn2)\n",
        "print(fuzzy1 + fuzzy2)\n",
        "print(fuzzy1 > fuzzy2)\n",
        "print(fuzzy1 < fuzzy2)\n",
        "print(fuzzy1 - fuzzy2)\n",
        "print(fuzzy1 * fuzzy2)\n",
        "print(fuzzy1 == fuzzy2)\n",
        "print(fuzzy1 != fuzzy2)"
      ],
      "execution_count": 7,
      "outputs": [
        {
          "output_type": "stream",
          "text": [
            "(array([130, 140, 150, 160, 170, 180, 190, 200, 210]), array([1.  , 1.  , 0.55, 1.  , 1.  , 1.  , 0.75, 0.4 , 0.4 ]))\n",
            "False\n",
            "False\n",
            "(array([130, 140, 150, 160, 170, 180, 190, 200, 210]), array([0., 0., 0., 0., 0., 0., 0., 0., 0.]))\n",
            "(array([130, 140, 150, 160, 170, 180, 190, 200, 210]), array([0.   , 0.09 , 0.075, 0.3  , 0.9  , 0.3  , 0.125, 0.03 , 0.   ]))\n",
            "False\n",
            "True\n"
          ],
          "name": "stdout"
        }
      ]
    },
    {
      "cell_type": "code",
      "metadata": {
        "id": "3MbkPob5xSI5",
        "colab_type": "code",
        "colab": {
          "base_uri": "https://localhost:8080/",
          "height": 419
        },
        "outputId": "c2155ce7-006b-4411-d1bd-42e639aa777a"
      },
      "source": [
        "# height fuzzy example with plot.\n",
        "# define height ranges\n",
        "fuzzy_set = np.array([130, 140, 150, 160, 170, 180, 190, 200, 210])\n",
        "# create a custom membership function for average height (avg = 170).\n",
        "membership_fn = np.array([0., 0.1, 0.25, 0.5, 1.0, 0.5, 0.25, 0.1, 0])\n",
        "myset = fuzzc.Fuzzy_Set(fuzzy_set=fuzzy_set, membership_fn=membership_fn)\n",
        "# show the members and their respective membership.\n",
        "myset.show()\n",
        "# plot the membership function.\n",
        "myset.plot_membership()\n",
        "# find the height.\n",
        "myset.height()\n",
        "# extract the cross over points and the support.\n",
        "supp_set = myset.support()\n",
        "supp_set.show()\n",
        "cross_set = myset.crossover()\n",
        "cross_set.show()\n",
        "# find the center of the set.\n",
        "myset.center()\n",
        "# Alpha cuts are also available.\n",
        "alpha_cut = myset.alpha_cut(0.5)\n",
        "alpha_cut.show()\n",
        "# The core of a fuzzy set is where the memberships are maximized( ==1 ).\n",
        "core = myset.core()\n",
        "core.show()\n",
        "# Also notice that the set and the membership function can be assesed anytime.\n",
        "print(myset.fuzzy_set)\n",
        "print(myset.membership_fn)"
      ],
      "execution_count": 9,
      "outputs": [
        {
          "output_type": "stream",
          "text": [
            "[(130, 0.0), (140, 0.1), (150, 0.25), (160, 0.5), (170, 1.0), (180, 0.5), (190, 0.25), (200, 0.1), (210, 0.0)]\n",
            "[(140, 0.1), (150, 0.25), (160, 0.5), (170, 1.0), (180, 0.5), (190, 0.25), (200, 0.1)]\n",
            "[(160, 0.5), (180, 0.5)]\n",
            "[(160, 1.0), (170, 1.0), (180, 1.0)]\n",
            "[(170, 1.0)]\n",
            "[130 140 150 160 170 180 190 200 210]\n",
            "[0.   0.1  0.25 0.5  1.   0.5  0.25 0.1  0.  ]\n"
          ],
          "name": "stdout"
        },
        {
          "output_type": "display_data",
          "data": {
            "image/png": "[encoded data removed]",
            "text/plain": [
              "<Figure size 432x288 with 1 Axes>"
            ]
          },
          "metadata": {
            "tags": []
          }
        }
      ]
    },
    {
      "cell_type": "code",
      "metadata": {
        "id": "-PMlo-MtxsSs",
        "colab_type": "code",
        "colab": {
          "base_uri": "https://localhost:8080/",
          "height": 95
        },
        "outputId": "7d370259-375a-43c4-eeea-6f7369dbc2a6"
      },
      "source": [
        "fuzzy_set = np.array([130, 140, 150, 160, 170, 180, 190, 200, 210])\n",
        "# create a custom membership function for average height (avg = 170)\n",
        "membership_fn = np.array([0., 0.1, 0.25, 0.5, 1.0, 0.5, 0.25, 0.1, 0])\n",
        "fuzzy = Fuzzy_Set(fuzzy_set=fuzzy_set, membership_fn=membership_fn)\n",
        "(fuzzy.complement(method=None)).show()\n",
        "(fuzzy.complement(method='sugeno', l=3)).show()\n",
        "(fuzzy.complement(method='yager', w=3)).show()"
      ],
      "execution_count": 10,
      "outputs": [
        {
          "output_type": "stream",
          "text": [
            "[(130, 1.0), (140, 0.9), (150, 0.75), (160, 0.5), (170, 0.0), (180, 0.5), (190, 0.75), (200, 0.9), (210, 1.0)]\n",
            "[(130, 1.0), (140, 0.6923076923076923), (150, 0.42857142857142855), (160, 0.2), (170, 0.0), (180, 0.2), (190, 0.42857142857142855), (200, 0.6923076923076923), (210, 1.0)]\n",
            "[(130, 1.0), (140, 0.999666555493786), (150, 0.9947643019740979), (160, 0.9564655913861946), (170, 0.0), (180, 0.9564655913861946), (190, 0.9947643019740979), (200, 0.999666555493786), (210, 1.0)]\n"
          ],
          "name": "stdout"
        }
      ]
    }
  ]
}